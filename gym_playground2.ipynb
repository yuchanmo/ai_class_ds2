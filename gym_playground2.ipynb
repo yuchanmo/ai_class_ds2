{
 "cells": [
  {
   "cell_type": "markdown",
   "metadata": {
    "colab_type": "text",
    "id": "8kCGnVa2EQZh"
   },
   "source": [
    "# Gym playground\n",
    "\n",
    "### Install & import requirements"
   ]
  },
  {
   "cell_type": "code",
   "execution_count": 0,
   "metadata": {
    "colab": {},
    "colab_type": "code",
    "id": "Q3lw-5Ni1R7A"
   },
   "outputs": [],
   "source": [
    "!pip install gym pyvirtualdisplay > /dev/null 2>&1\n",
    "!apt-get install -y xvfb python-opengl ffmpeg > /dev/null 2>&1"
   ]
  },
  {
   "cell_type": "code",
   "execution_count": 0,
   "metadata": {
    "colab": {},
    "colab_type": "code",
    "id": "XkBgqG0l04bU"
   },
   "outputs": [],
   "source": [
    "import numpy as np\n",
    "import gym\n",
    "from gym.wrappers import Monitor\n",
    "\n",
    "import glob\n",
    "import io\n",
    "import base64\n",
    "from IPython.display import HTML\n",
    "from IPython import display as ipythondisplay"
   ]
  },
  {
   "cell_type": "markdown",
   "metadata": {
    "colab_type": "text",
    "id": "GKz7OkN7EXTZ"
   },
   "source": [
    "### Utility functions"
   ]
  },
  {
   "cell_type": "code",
   "execution_count": 3,
   "metadata": {
    "colab": {
     "base_uri": "https://localhost:8080/",
     "height": 76
    },
    "colab_type": "code",
    "executionInfo": {
     "elapsed": 19952,
     "status": "ok",
     "timestamp": 1553567444276,
     "user": {
      "displayName": "na joonil",
      "photoUrl": "https://lh5.googleusercontent.com/-NnDz_iVhiXY/AAAAAAAAAAI/AAAAAAAAAFU/sJUpsASRJyM/s64/photo.jpg",
      "userId": "09413404274645335809"
     },
     "user_tz": -540
    },
    "id": "62xXdwChgUdy",
    "outputId": "c6a01966-1451-4be9-fa73-b7530c7f4a96"
   },
   "outputs": [
    {
     "data": {
      "text/plain": [
       "<Display cmd_param=['Xvfb', '-br', '-nolisten', 'tcp', '-screen', '0', '1400x900x24', ':1001'] cmd=['Xvfb', '-br', '-nolisten', 'tcp', '-screen', '0', '1400x900x24', ':1001'] oserror=None return_code=None stdout=\"None\" stderr=\"None\" timeout_happened=False>"
      ]
     },
     "execution_count": 3,
     "metadata": {
      "tags": []
     },
     "output_type": "execute_result"
    }
   ],
   "source": [
    "from pyvirtualdisplay import Display\n",
    "display = Display(visible=0, size=(1400, 900))\n",
    "display.start()"
   ]
  },
  {
   "cell_type": "code",
   "execution_count": 4,
   "metadata": {
    "colab": {
     "base_uri": "https://localhost:8080/",
     "height": 76
    },
    "colab_type": "code",
    "executionInfo": {
     "elapsed": 19941,
     "status": "ok",
     "timestamp": 1553567444280,
     "user": {
      "displayName": "na joonil",
      "photoUrl": "https://lh5.googleusercontent.com/-NnDz_iVhiXY/AAAAAAAAAAI/AAAAAAAAAFU/sJUpsASRJyM/s64/photo.jpg",
      "userId": "09413404274645335809"
     },
     "user_tz": -540
    },
    "id": "2SSl7HV91MD3",
    "outputId": "b3c9212f-4a26-4fa8-fb25-40e484c3d5f7"
   },
   "outputs": [
    {
     "name": "stdout",
     "output_type": "stream",
     "text": [
      "Could not find video\n"
     ]
    }
   ],
   "source": [
    "import sys\n",
    "import time\n",
    "from subprocess import check_output\n",
    "import os\n",
    "\n",
    "\n",
    "def combine_video(mp4list):\n",
    "    path = 'video/final.mp4'\n",
    "    # if exist, delete\n",
    "    if os.path.exists(path):\n",
    "        check_output([\"rm\", path])\n",
    "    # First, convert into mpg\n",
    "    for i, mp4name in enumerate(mp4list):\n",
    "        mpgname = \"./video/part\" + str(i) + \".mpg\"\n",
    "        check_output([\"ffmpeg\", \"-i\", mp4name, mpgname])\n",
    "    # Combine\n",
    "    check_output(\"cat ./video/part*.mpg > ./video/final.mpg\", shell=True)\n",
    "    # Removing intermediate files\n",
    "    check_output(\"rm ./video/part*.mpg\", shell=True)\n",
    "    # Convert into mp4\n",
    "    check_output([\"ffmpeg\", \"-i\", \"./video/final.mpg\",\n",
    "                  \"-vcodec\", \"libx264\", \"-acodec\", \"libvorbis\",\n",
    "                  path])\n",
    "    # Removing the last mpg file.\"\n",
    "    check_output(\"rm ./video/final.mpg\", shell=True)\n",
    "    return path\n",
    "\n",
    "def show_video():\n",
    "    mp4list = glob.glob('video/*.mp4')\n",
    "    if len(mp4list) > 0:\n",
    "        # Combining multiple mp4's into one.\n",
    "        if len(mp4list) > 1:\n",
    "            mp4 = combine_video(mp4list)\n",
    "        else:\n",
    "            mp4 = mp4list[0]\n",
    "        video = io.open(mp4, 'r+b').read()\n",
    "        encoded = base64.b64encode(video)\n",
    "        ipythondisplay.display(HTML(data='''<video alt=\"test\" autoplay \n",
    "                loop controls style=\"height: 400px;\">\n",
    "                <source src=\"data:video/mp4;base64,{0}\" type=\"video/mp4\" />\n",
    "                </video>'''.format(encoded.decode('ascii'))))\n",
    "    else: \n",
    "        print(\"Could not find video\")\n",
    "\n",
    "show_video()"
   ]
  },
  {
   "cell_type": "markdown",
   "metadata": {
    "colab_type": "text",
    "id": "A-wMEJGoE5MF"
   },
   "source": [
    "### Make environment\n",
    "\n",
    "Monitor automatically save episodes in perfect cubes(i.e. 1, 8, 27, 64,... ).\n",
    "\n",
    "Refer https://github.com/openai/gym/issues/494"
   ]
  },
  {
   "cell_type": "code",
   "execution_count": 5,
   "metadata": {
    "colab": {
     "base_uri": "https://localhost:8080/",
     "height": 1020,
     "output_embedded_package_id": "1oPp1hU13kgy924QVwfsCt9_9gBiZ4rMY"
    },
    "colab_type": "code",
    "executionInfo": {
     "elapsed": 66128,
     "status": "ok",
     "timestamp": 1553567490480,
     "user": {
      "displayName": "na joonil",
      "photoUrl": "https://lh5.googleusercontent.com/-NnDz_iVhiXY/AAAAAAAAAAI/AAAAAAAAAFU/sJUpsASRJyM/s64/photo.jpg",
      "userId": "09413404274645335809"
     },
     "user_tz": -540
    },
    "id": "QU1ustcJ-ORP",
    "outputId": "c7468bad-4446-4fdf-c19b-76adfdf87b77"
   },
   "outputs": [
    {
     "data": {
      "text/plain": [
       "Output hidden; open in https://colab.research.google.com to view."
      ]
     },
     "metadata": {},
     "output_type": "display_data"
    }
   ],
   "source": [
    "env = Monitor(gym.make(\"SpaceInvaders-v0\"), './video', force=True, video_callable=lambda episode_id: episode_id%10==0)\n",
    "#env = Monitor(gym.make(\"SpaceInvaders-v0\"), './video', force=True)\n",
    "#env.render()\n",
    "\n",
    "def policy(state):\n",
    "    return np.random.choice(range(6))\n",
    "\n",
    "for i in range(60):\n",
    "    print(\"\\r[episode:%6d ]\" % i, end=\"\")\n",
    "    observation = env.reset()\n",
    "    tot_score = 0\n",
    "    while True:\n",
    "        #your agent goes here\n",
    "        action = policy(observation)\n",
    "        observation, reward, done, info = env.step(action) \n",
    "        tot_score += reward\n",
    "        if done: \n",
    "            break;\n",
    "env.close()\n",
    "print()\n",
    "show_video()"
   ]
  },
  {
   "cell_type": "code",
   "execution_count": 0,
   "metadata": {
    "colab": {},
    "colab_type": "code",
    "id": "1azUkmEso5wE"
   },
   "outputs": [],
   "source": []
  }
 ],
 "metadata": {
  "accelerator": "GPU",
  "colab": {
   "collapsed_sections": [],
   "name": "gym_playground2.ipynb",
   "provenance": [
    {
     "file_id": "1ARInDFLeo43WOqZy1R2MyRzE-YbzEcZ0",
     "timestamp": 1553561281387
    }
   ],
   "version": "0.3.2"
  },
  "kernelspec": {
   "display_name": "Python 3",
   "language": "python",
   "name": "python3"
  },
  "language_info": {
   "codemirror_mode": {
    "name": "ipython",
    "version": 2
   },
   "file_extension": ".py",
   "mimetype": "text/x-python",
   "name": "python",
   "nbconvert_exporter": "python",
   "pygments_lexer": "ipython2",
   "version": "2.7.15"
  }
 },
 "nbformat": 4,
 "nbformat_minor": 1
}
